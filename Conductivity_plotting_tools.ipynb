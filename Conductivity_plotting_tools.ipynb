{
 "cells": [
  {
   "cell_type": "code",
   "execution_count": 1,
   "metadata": {},
   "outputs": [],
   "source": [
    "from oxygen_analysis import group_channels, get_filenames, import_data\n",
    "import numpy as np\n",
    "import pandas as pd\n",
    "import os\n",
    "from nptdms import TdmsFile\n",
    "import multiprocessing as mp\n",
    "import plotly.graph_objects as go\n",
    "import ipywidgets as widgets"
   ]
  },
  {
   "cell_type": "code",
   "execution_count": 2,
   "metadata": {},
   "outputs": [],
   "source": [
    "# Get the filenames to load data from \n",
    "filepath = 'C:\\\\Users\\\\derek\\\\Desktop\\\\OxyPDE_10032019\\\\'\n",
    "filenames = get_filenames(filepath)"
   ]
  },
  {
   "cell_type": "code",
   "execution_count": 3,
   "metadata": {
    "code_folding": [
     0
    ]
   },
   "outputs": [],
   "source": [
    "def get_photo_data(filename):\n",
    "    pd_data = []\n",
    "    pdfile = TdmsFile(filename)\n",
    "    temp_data = pdfile.group_channels(pdfile.groups()[0])\n",
    "    for dc in temp_data:\n",
    "        if 'time' in dc.path.lower():\n",
    "            pass\n",
    "        elif 'photo' in dc.path.lower() or 'coil' in dc.path.lower():\n",
    "            pd_data.append(dc.as_dataframe().values)\n",
    "    return np.asarray(pd_data, dtype=np.float64).squeeze()"
   ]
  },
  {
   "cell_type": "code",
   "execution_count": 4,
   "metadata": {
    "code_folding": [
     0
    ]
   },
   "outputs": [],
   "source": [
    "def generate_x_values(data_shape):\n",
    "    x_values = np.empty((min(data_shape), max(data_shape)))\n",
    "    x_series = np.divide(list(range(max(data_shape))), max(data_shape))\n",
    "    for i in range(min(trimmed_data.shape)):\n",
    "        x_values[i, :] = x_series\n",
    "    return x_values"
   ]
  },
  {
   "cell_type": "code",
   "execution_count": 5,
   "metadata": {},
   "outputs": [],
   "source": [
    "# This code generates the data for one test now it needs to be put into a funtion that allows it\n",
    "# to be used on all of the tests so we can look at all of the data at once\n",
    "def get_useful_data(file_loc):\n",
    "    data = get_photo_data(file_loc)\n",
    "    lower_window_limit = 250\n",
    "    upper_window_limit = 4750\n",
    "    max_avg = int(data.argmax(axis=1)[:2].mean())\n",
    "    window_min = int(max_avg-lower_window_limit)\n",
    "    window_max = int(max_avg+upper_window_limit)\n",
    "    remove_indicies = list(range(0, window_min)) + list(range(window_max, max(data.shape)))\n",
    "    trimmed_data = np.delete(data, remove_indicies, axis=1).transpose()\n",
    "    trimmed_x_values = np.divide(range(window_min, window_max), 1e6)\n",
    "    return np.column_stack((trimmed_data, trimmed_x_values.reshape((max(trimmed_data.shape), 1))))"
   ]
  },
  {
   "cell_type": "code",
   "execution_count": null,
   "metadata": {
    "code_folding": []
   },
   "outputs": [],
   "source": [
    "# See if we can get all of the data\n",
    "test_data = []\n",
    "for f in filenames:\n",
    "    test_data.append(get_useful_data(os.path.join(filepath, f)))\n",
    "test_data = np.asarray(test_data)\n"
   ]
  },
  {
   "cell_type": "code",
   "execution_count": 9,
   "metadata": {
    "code_folding": [
     14,
     16
    ]
   },
   "outputs": [
    {
     "data": {
      "application/vnd.jupyter.widget-view+json": {
       "model_id": "6ae41c01197a4de5ba4c3b03fcd83305",
       "version_major": 2,
       "version_minor": 0
      },
      "text/plain": [
       "VBox(children=(interactive(children=(IntSlider(value=0, description='Test_Number', layout=Layout(width='800px'…"
      ]
     },
     "metadata": {},
     "output_type": "display_data"
    }
   ],
   "source": [
    "axis_font = dict(size=24, family='DejaVu Sans')\n",
    "# cond_fig = go.FigureWidget()\n",
    "from plotly.subplots import make_subplots\n",
    "\n",
    "test_slider = widgets.IntSlider(\n",
    "    min=0,\n",
    "    max=test_data.shape[0]-1,\n",
    "    value=0,\n",
    "    step=1,\n",
    "    readout=True,\n",
    "    description='Test_Number'\n",
    ")\n",
    "test_slider.layout.width='800px'\n",
    "\n",
    "# cond_fig = make_subplots(specs=[[{\"secondary_y\": True}]])\n",
    "cond_fig = make_subplots(rows=2,\n",
    "                         cols=1,\n",
    "                         shared_xaxes=True, \n",
    "                         specs=[[{\"secondary_y\": True}], [{\"secondary_y\": True}]],\n",
    "                        vertical_spacing=0.2\n",
    "                        )\n",
    "cond_fig = go.FigureWidget(cond_fig)\n",
    "\n",
    "\n",
    "test_number = 0\n",
    "number_of_sensors = 4\n",
    "\n",
    "# plot the first trace in the set of data where the first 4 datasets are the sensor traces and\n",
    "# the last one is the time trace\n",
    "time_trace = test_data[0, :, -1]\n",
    "sensor_name = ['Photodiode 1', 'Photodiode 2', 'Photodiode 3', \"Conductivity\"]\n",
    "\n",
    "def update_plot_traces(test_number):\n",
    "    with cond_fig.batch_update():\n",
    "        cond_fig.update_layout(title=go.layout.Title(text=filenames[test_number], xref=\"paper\",x=0))\n",
    "        time_trace = test_data[test_number, :, -1]\n",
    "        traces = []\n",
    "        for idx, trace in enumerate(cond_fig.update_traces()['data']):\n",
    "            trace['x'] = test_data[test_number, :, -1]\n",
    "            trace['y'] = test_data[test_number, :, idx]\n",
    "    return None\n",
    "\n",
    "for i in range(number_of_sensors):\n",
    "    x_data = time_trace\n",
    "    y_data = test_data[0, :, i]\n",
    "    trace_name = sensor_name[i]\n",
    "    if i==3:\n",
    "        cond_fig.add_trace(\n",
    "            go.Scattergl(\n",
    "                x=x_data,\n",
    "                y=y_data,\n",
    "                name=trace_name\n",
    "            ),\n",
    "            row=2,\n",
    "            col=1\n",
    "        )\n",
    "    else:\n",
    "        cond_fig.add_trace(\n",
    "            go.Scattergl(\n",
    "                x=x_data,\n",
    "                y=y_data,\n",
    "                name=trace_name\n",
    "            ),\n",
    "            row=1,\n",
    "            col=1\n",
    "        )\n",
    "\n",
    "vb = widgets.VBox([widgets.interactive(update_plot_traces, test_number=test_slider), cond_fig])\n",
    "vb"
   ]
  }
 ],
 "metadata": {
  "kernelspec": {
   "display_name": "Python 3",
   "language": "python",
   "name": "python3"
  },
  "language_info": {
   "codemirror_mode": {
    "name": "ipython",
    "version": 3
   },
   "file_extension": ".py",
   "mimetype": "text/x-python",
   "name": "python",
   "nbconvert_exporter": "python",
   "pygments_lexer": "ipython3",
   "version": "3.7.3"
  }
 },
 "nbformat": 4,
 "nbformat_minor": 2
}
